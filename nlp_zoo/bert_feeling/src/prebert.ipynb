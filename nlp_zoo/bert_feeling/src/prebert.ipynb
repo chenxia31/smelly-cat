{
 "cells": [
  {
   "cell_type": "code",
   "execution_count": 1,
   "metadata": {},
   "outputs": [],
   "source": [
    "import sys\n",
    "sys.path.append('../')\n",
    "from util import load_data\n",
    "data_path='../data/sst2_shuffled.tsv.1'\n",
    "train_data,test_data,categories=load_data.load_sentence_polarity(data_path=data_path)"
   ]
  },
  {
   "cell_type": "code",
   "execution_count": 2,
   "metadata": {},
   "outputs": [],
   "source": [
    "# 这里新的模型transformer\n",
    "# 先确定pre train模型的名称，所确定的tokenize\n",
    "# 加载预训练模型，因为这里是英文数据集，需要用在英文上的预训练模型：bert-base-uncased\n",
    "# uncased指该预训练模型对应的词表不区分字母的大小写\n",
    "# 详情可了解：https://huggingface.co/bert-base-uncased\n",
    "pretrained_model_name = 'bert-base-uncased'\n",
    "import torch\n",
    "import torch.nn as nn\n",
    "from torch.optim import Adam\n",
    "from torch.utils.data import Dataset, DataLoader\n",
    "from transformers import BertModel\n",
    "from tqdm import tqdm\n",
    "import os\n",
    "import time\n",
    "from transformers import BertTokenizer\n",
    "from transformers import logging"
   ]
  },
  {
   "cell_type": "code",
   "execution_count": 3,
   "metadata": {},
   "outputs": [],
   "source": [
    "# 编写好制作数据集的方式，先定义dataset、后面定义dataloader\n",
    "class BertDataset(Dataset):\n",
    "    def __init__(self,dataset):\n",
    "        self.dataset=dataset\n",
    "        self.data_size=len(dataset)\n",
    "    \n",
    "    def __len__(self):\n",
    "        return self.data_size\n",
    "    \n",
    "    def __getitem__(self, index):\n",
    "        return self.dataset[index]\n",
    "\n",
    "def coffate_fn(examples):\n",
    "    inputs,targets=[],[]\n",
    "    for polar,sent in examples:\n",
    "        inputs.append(sent)\n",
    "        targets.append(int(polar))\n",
    "    # 这里的tokenizer是后面提供好pretrain model之后的API\n",
    "    inputs = tokenizer(inputs,\n",
    "                       padding=True,\n",
    "                       truncation=True,\n",
    "                       return_tensors=\"pt\",\n",
    "                       max_length=512)\n",
    "    targets = torch.tensor(targets)\n",
    "    return inputs,targets\n",
    "\n",
    "pretrained_model_name = 'bert-base-uncased'\n",
    "# 加载预训练模型对应的tokenizer\n",
    "tokenizer = BertTokenizer.from_pretrained(pretrained_model_name)\n",
    "batch_size=32\n",
    "train_dataset=BertDataset(train_data)\n",
    "test_dataset=BertDataset(test_data)\n",
    "train_dataloader=DataLoader(train_dataset,batch_size=batch_size,collate_fn=coffate_fn,shuffle=True)\n",
    "test_dataloader=DataLoader(test_dataset,batch_size=batch_size,collate_fn=coffate_fn,shuffle=True)\n"
   ]
  },
  {
   "cell_type": "code",
   "execution_count": 4,
   "metadata": {},
   "outputs": [
    {
     "name": "stdout",
     "output_type": "stream",
     "text": [
      "({'input_ids': tensor([[  101,  1996, 16655,  ...,     0,     0,     0],\n",
      "        [  101,  1037,  4276,  ...,     0,     0,     0],\n",
      "        [  101, 23734, 21566,  ...,     0,     0,     0],\n",
      "        ...,\n",
      "        [  101, 13463,  1996,  ...,     0,     0,     0],\n",
      "        [  101,  1037,  2422,  ...,     0,     0,     0],\n",
      "        [  101, 17958,  2007,  ...,     0,     0,     0]]), 'token_type_ids': tensor([[0, 0, 0,  ..., 0, 0, 0],\n",
      "        [0, 0, 0,  ..., 0, 0, 0],\n",
      "        [0, 0, 0,  ..., 0, 0, 0],\n",
      "        ...,\n",
      "        [0, 0, 0,  ..., 0, 0, 0],\n",
      "        [0, 0, 0,  ..., 0, 0, 0],\n",
      "        [0, 0, 0,  ..., 0, 0, 0]]), 'attention_mask': tensor([[1, 1, 1,  ..., 0, 0, 0],\n",
      "        [1, 1, 1,  ..., 0, 0, 0],\n",
      "        [1, 1, 1,  ..., 0, 0, 0],\n",
      "        ...,\n",
      "        [1, 1, 1,  ..., 0, 0, 0],\n",
      "        [1, 1, 1,  ..., 0, 0, 0],\n",
      "        [1, 1, 1,  ..., 0, 0, 0]])}, tensor([0, 0, 1, 0, 0, 0, 1, 0, 0, 0, 0, 1, 1, 0, 0, 1, 1, 0, 1, 1, 1, 1, 1, 1,\n",
      "        0, 1, 0, 1, 0, 1, 0, 0]))\n"
     ]
    }
   ],
   "source": [
    "for batch in train_dataloader:\n",
    "    print(batch)\n",
    "    break"
   ]
  },
  {
   "cell_type": "code",
   "execution_count": 5,
   "metadata": {},
   "outputs": [],
   "source": [
    "# 之后是定义模型的名称\n",
    "class BertSST2Model(nn.Module):\n",
    "    def __init__(self,class_size,pretrained_model_name=pretrained_model_name) -> None:\n",
    "        super(BertSST2Model,self).__init__()\n",
    "        # 记载hugging face的bertmodel\n",
    "        # bertmodel的最终输出维度默认为768\n",
    "        # 对其进行调整输入的维度调整\n",
    "        self.bert=BertModel.from_pretrained(pretrained_model_name,return_dict=True)\n",
    "        # 修改最后一个线性层\n",
    "        self.classifier=nn.Linear(768,class_size)\n",
    "    \n",
    "    def forward(self,inputs):\n",
    "        \"\"\"\n",
    "        前向推理的过程\n",
    "        inputs 处理好的数据 shape=batchsize*max_len\n",
    "\n",
    "        \"\"\"\n",
    "        input_ids,input_tyi,input_attn_mask=inputs['input_ids'],inputs['token_type_ids'],inputs['attention_mask']\n",
    "        # TODO 如何实现\n",
    "        output=self.bert(input_ids,input_tyi,input_attn_mask)\n",
    "        categories_numberic=self.classifier(output.pooler_output)\n",
    "        return categories_numberic\n",
    "\n",
    "def save_pretrained(model, path):\n",
    "    # 保存模型，先利用os模块创建文件夹，后利用torch.save()写入模型文件\n",
    "    os.makedirs(path, exist_ok=True)\n",
    "    torch.save(model, os.path.join(path, 'model.pth'))"
   ]
  },
  {
   "cell_type": "code",
   "execution_count": 6,
   "metadata": {},
   "outputs": [
    {
     "name": "stderr",
     "output_type": "stream",
     "text": [
      "Some weights of the model checkpoint at bert-base-uncased were not used when initializing BertModel: ['cls.predictions.transform.LayerNorm.bias', 'cls.seq_relationship.weight', 'cls.predictions.transform.LayerNorm.weight', 'cls.seq_relationship.bias', 'cls.predictions.bias', 'cls.predictions.decoder.weight', 'cls.predictions.transform.dense.bias', 'cls.predictions.transform.dense.weight']\n",
      "- This IS expected if you are initializing BertModel from the checkpoint of a model trained on another task or with another architecture (e.g. initializing a BertForSequenceClassification model from a BertForPreTraining model).\n",
      "- This IS NOT expected if you are initializing BertModel from the checkpoint of a model that you expect to be exactly identical (initializing a BertForSequenceClassification model from a BertForSequenceClassification model).\n"
     ]
    }
   ],
   "source": [
    "# 定义超参数\n",
    "device = torch.device(\"cuda\" if torch.cuda.is_available() else \"cpu\")\n",
    "batch_size=64\n",
    "num_epoch=200\n",
    "check_step=20\n",
    "learning_rate=1e-5\n",
    "model=BertSST2Model(class_size=2)\n",
    "model.to(device)\n",
    "optimizer=Adam(model.parameters(),learning_rate)\n",
    "celoss=nn.CrossEntropyLoss()"
   ]
  },
  {
   "cell_type": "code",
   "execution_count": 7,
   "metadata": {},
   "outputs": [
    {
     "name": "stderr",
     "output_type": "stream",
     "text": [
      "Training epoch 1: 100%|██████████| 250/250 [00:37<00:00,  6.68it/s]\n",
      "Testing: 100%|██████████| 63/63 [00:03<00:00, 18.37it/s]\n"
     ]
    },
    {
     "name": "stdout",
     "output_type": "stream",
     "text": [
      "Acc: 19.03\n"
     ]
    },
    {
     "name": "stderr",
     "output_type": "stream",
     "text": [
      "Training epoch 2: 100%|██████████| 250/250 [00:37<00:00,  6.67it/s]\n",
      "Testing: 100%|██████████| 63/63 [00:03<00:00, 17.90it/s]\n"
     ]
    },
    {
     "name": "stdout",
     "output_type": "stream",
     "text": [
      "Acc: 21.79\n"
     ]
    },
    {
     "name": "stderr",
     "output_type": "stream",
     "text": [
      "Training epoch 3: 100%|██████████| 250/250 [00:37<00:00,  6.61it/s]\n",
      "Testing: 100%|██████████| 63/63 [00:03<00:00, 17.77it/s]\n"
     ]
    },
    {
     "name": "stdout",
     "output_type": "stream",
     "text": [
      "Acc: 21.78\n"
     ]
    },
    {
     "name": "stderr",
     "output_type": "stream",
     "text": [
      "Training epoch 4: 100%|██████████| 250/250 [00:37<00:00,  6.60it/s]\n",
      "Testing: 100%|██████████| 63/63 [00:03<00:00, 17.90it/s]\n"
     ]
    },
    {
     "name": "stdout",
     "output_type": "stream",
     "text": [
      "Acc: 22.25\n"
     ]
    },
    {
     "name": "stderr",
     "output_type": "stream",
     "text": [
      "Training epoch 5: 100%|██████████| 250/250 [00:38<00:00,  6.54it/s]\n",
      "Testing: 100%|██████████| 63/63 [00:03<00:00, 17.62it/s]\n"
     ]
    },
    {
     "name": "stdout",
     "output_type": "stream",
     "text": [
      "Acc: 22.49\n"
     ]
    },
    {
     "name": "stderr",
     "output_type": "stream",
     "text": [
      "Training epoch 6: 100%|██████████| 250/250 [00:38<00:00,  6.54it/s]\n",
      "Testing: 100%|██████████| 63/63 [00:03<00:00, 17.48it/s]\n"
     ]
    },
    {
     "name": "stdout",
     "output_type": "stream",
     "text": [
      "Acc: 22.13\n"
     ]
    },
    {
     "name": "stderr",
     "output_type": "stream",
     "text": [
      "Training epoch 7: 100%|██████████| 250/250 [00:38<00:00,  6.47it/s]\n",
      "Testing: 100%|██████████| 63/63 [00:03<00:00, 17.55it/s]\n"
     ]
    },
    {
     "name": "stdout",
     "output_type": "stream",
     "text": [
      "Acc: 21.97\n"
     ]
    },
    {
     "name": "stderr",
     "output_type": "stream",
     "text": [
      "Training epoch 8: 100%|██████████| 250/250 [00:38<00:00,  6.48it/s]\n",
      "Testing: 100%|██████████| 63/63 [00:03<00:00, 17.61it/s]\n"
     ]
    },
    {
     "name": "stdout",
     "output_type": "stream",
     "text": [
      "Acc: 22.65\n"
     ]
    },
    {
     "name": "stderr",
     "output_type": "stream",
     "text": [
      "Training epoch 9: 100%|██████████| 250/250 [00:38<00:00,  6.49it/s]\n",
      "Testing: 100%|██████████| 63/63 [00:03<00:00, 17.74it/s]\n"
     ]
    },
    {
     "name": "stdout",
     "output_type": "stream",
     "text": [
      "Acc: 22.86\n"
     ]
    },
    {
     "name": "stderr",
     "output_type": "stream",
     "text": [
      "Training epoch 10: 100%|██████████| 250/250 [00:38<00:00,  6.49it/s]\n",
      "Testing: 100%|██████████| 63/63 [00:03<00:00, 17.42it/s]\n"
     ]
    },
    {
     "name": "stdout",
     "output_type": "stream",
     "text": [
      "Acc: 22.67\n"
     ]
    },
    {
     "name": "stderr",
     "output_type": "stream",
     "text": [
      "Training epoch 11: 100%|██████████| 250/250 [00:38<00:00,  6.51it/s]\n",
      "Testing: 100%|██████████| 63/63 [00:03<00:00, 17.33it/s]\n"
     ]
    },
    {
     "name": "stdout",
     "output_type": "stream",
     "text": [
      "Acc: 22.43\n"
     ]
    },
    {
     "name": "stderr",
     "output_type": "stream",
     "text": [
      "Training epoch 12: 100%|██████████| 250/250 [00:38<00:00,  6.50it/s]\n",
      "Testing: 100%|██████████| 63/63 [00:03<00:00, 17.71it/s]\n"
     ]
    },
    {
     "name": "stdout",
     "output_type": "stream",
     "text": [
      "Acc: 22.70\n"
     ]
    },
    {
     "name": "stderr",
     "output_type": "stream",
     "text": [
      "Training epoch 13: 100%|██████████| 250/250 [00:38<00:00,  6.50it/s]\n",
      "Testing: 100%|██████████| 63/63 [00:03<00:00, 17.50it/s]\n"
     ]
    },
    {
     "name": "stdout",
     "output_type": "stream",
     "text": [
      "Acc: 22.27\n"
     ]
    },
    {
     "name": "stderr",
     "output_type": "stream",
     "text": [
      "Training epoch 14: 100%|██████████| 250/250 [00:38<00:00,  6.48it/s]\n",
      "Testing: 100%|██████████| 63/63 [00:03<00:00, 17.78it/s]\n"
     ]
    },
    {
     "name": "stdout",
     "output_type": "stream",
     "text": [
      "Acc: 23.05\n"
     ]
    },
    {
     "name": "stderr",
     "output_type": "stream",
     "text": [
      "Training epoch 15: 100%|██████████| 250/250 [00:38<00:00,  6.52it/s]\n",
      "Testing: 100%|██████████| 63/63 [00:03<00:00, 17.64it/s]\n"
     ]
    },
    {
     "name": "stdout",
     "output_type": "stream",
     "text": [
      "Acc: 21.14\n"
     ]
    },
    {
     "name": "stderr",
     "output_type": "stream",
     "text": [
      "Training epoch 16: 100%|██████████| 250/250 [00:38<00:00,  6.51it/s]\n",
      "Testing: 100%|██████████| 63/63 [00:03<00:00, 17.82it/s]\n"
     ]
    },
    {
     "name": "stdout",
     "output_type": "stream",
     "text": [
      "Acc: 23.00\n"
     ]
    },
    {
     "name": "stderr",
     "output_type": "stream",
     "text": [
      "Training epoch 17: 100%|██████████| 250/250 [00:38<00:00,  6.54it/s]\n",
      "Testing: 100%|██████████| 63/63 [00:03<00:00, 17.54it/s]\n"
     ]
    },
    {
     "name": "stdout",
     "output_type": "stream",
     "text": [
      "Acc: 23.24\n"
     ]
    },
    {
     "name": "stderr",
     "output_type": "stream",
     "text": [
      "Training epoch 18: 100%|██████████| 250/250 [00:38<00:00,  6.52it/s]\n",
      "Testing: 100%|██████████| 63/63 [00:03<00:00, 17.57it/s]\n"
     ]
    },
    {
     "name": "stdout",
     "output_type": "stream",
     "text": [
      "Acc: 21.21\n"
     ]
    },
    {
     "name": "stderr",
     "output_type": "stream",
     "text": [
      "Training epoch 19: 100%|██████████| 250/250 [00:38<00:00,  6.54it/s]\n",
      "Testing: 100%|██████████| 63/63 [00:03<00:00, 17.50it/s]\n"
     ]
    },
    {
     "name": "stdout",
     "output_type": "stream",
     "text": [
      "Acc: 22.67\n"
     ]
    },
    {
     "name": "stderr",
     "output_type": "stream",
     "text": [
      "Training epoch 20: 100%|██████████| 250/250 [00:38<00:00,  6.49it/s]\n",
      "Testing: 100%|██████████| 63/63 [00:03<00:00, 17.72it/s]\n"
     ]
    },
    {
     "name": "stdout",
     "output_type": "stream",
     "text": [
      "Acc: 22.51\n"
     ]
    },
    {
     "name": "stderr",
     "output_type": "stream",
     "text": [
      "Training epoch 21: 100%|██████████| 250/250 [00:38<00:00,  6.52it/s]\n",
      "Testing: 100%|██████████| 63/63 [00:03<00:00, 17.73it/s]\n"
     ]
    },
    {
     "name": "stdout",
     "output_type": "stream",
     "text": [
      "Acc: 23.11\n"
     ]
    },
    {
     "name": "stderr",
     "output_type": "stream",
     "text": [
      "Training epoch 22: 100%|██████████| 250/250 [00:38<00:00,  6.48it/s]\n",
      "Testing: 100%|██████████| 63/63 [00:03<00:00, 17.55it/s]\n"
     ]
    },
    {
     "name": "stdout",
     "output_type": "stream",
     "text": [
      "Acc: 23.35\n"
     ]
    },
    {
     "name": "stderr",
     "output_type": "stream",
     "text": [
      "Training epoch 23: 100%|██████████| 250/250 [00:38<00:00,  6.52it/s]\n",
      "Testing: 100%|██████████| 63/63 [00:03<00:00, 17.35it/s]\n"
     ]
    },
    {
     "name": "stdout",
     "output_type": "stream",
     "text": [
      "Acc: 21.67\n"
     ]
    },
    {
     "name": "stderr",
     "output_type": "stream",
     "text": [
      "Training epoch 24: 100%|██████████| 250/250 [00:38<00:00,  6.52it/s]\n",
      "Testing: 100%|██████████| 63/63 [00:03<00:00, 17.84it/s]\n"
     ]
    },
    {
     "name": "stdout",
     "output_type": "stream",
     "text": [
      "Acc: 21.25\n"
     ]
    },
    {
     "name": "stderr",
     "output_type": "stream",
     "text": [
      "Training epoch 25: 100%|██████████| 250/250 [00:38<00:00,  6.53it/s]\n",
      "Testing: 100%|██████████| 63/63 [00:03<00:00, 17.28it/s]\n"
     ]
    },
    {
     "name": "stdout",
     "output_type": "stream",
     "text": [
      "Acc: 22.70\n"
     ]
    },
    {
     "name": "stderr",
     "output_type": "stream",
     "text": [
      "Training epoch 26: 100%|██████████| 250/250 [00:38<00:00,  6.51it/s]\n",
      "Testing: 100%|██████████| 63/63 [00:03<00:00, 17.80it/s]\n"
     ]
    },
    {
     "name": "stdout",
     "output_type": "stream",
     "text": [
      "Acc: 22.79\n"
     ]
    },
    {
     "name": "stderr",
     "output_type": "stream",
     "text": [
      "Training epoch 27: 100%|██████████| 250/250 [00:38<00:00,  6.52it/s]\n",
      "Testing: 100%|██████████| 63/63 [00:03<00:00, 17.72it/s]\n"
     ]
    },
    {
     "name": "stdout",
     "output_type": "stream",
     "text": [
      "Acc: 23.11\n"
     ]
    },
    {
     "name": "stderr",
     "output_type": "stream",
     "text": [
      "Training epoch 28: 100%|██████████| 250/250 [00:38<00:00,  6.53it/s]\n",
      "Testing: 100%|██████████| 63/63 [00:03<00:00, 17.65it/s]\n"
     ]
    },
    {
     "name": "stdout",
     "output_type": "stream",
     "text": [
      "Acc: 23.38\n"
     ]
    },
    {
     "name": "stderr",
     "output_type": "stream",
     "text": [
      "Training epoch 29: 100%|██████████| 250/250 [00:38<00:00,  6.58it/s]\n",
      "Testing: 100%|██████████| 63/63 [00:03<00:00, 17.77it/s]\n"
     ]
    },
    {
     "name": "stdout",
     "output_type": "stream",
     "text": [
      "Acc: 22.14\n"
     ]
    },
    {
     "name": "stderr",
     "output_type": "stream",
     "text": [
      "Training epoch 30: 100%|██████████| 250/250 [00:38<00:00,  6.53it/s]\n",
      "Testing: 100%|██████████| 63/63 [00:03<00:00, 17.52it/s]\n"
     ]
    },
    {
     "name": "stdout",
     "output_type": "stream",
     "text": [
      "Acc: 22.70\n"
     ]
    },
    {
     "name": "stderr",
     "output_type": "stream",
     "text": [
      "Training epoch 31: 100%|██████████| 250/250 [00:38<00:00,  6.51it/s]\n",
      "Testing: 100%|██████████| 63/63 [00:03<00:00, 17.60it/s]\n"
     ]
    },
    {
     "name": "stdout",
     "output_type": "stream",
     "text": [
      "Acc: 22.52\n"
     ]
    },
    {
     "name": "stderr",
     "output_type": "stream",
     "text": [
      "Training epoch 32: 100%|██████████| 250/250 [00:38<00:00,  6.51it/s]\n",
      "Testing: 100%|██████████| 63/63 [00:03<00:00, 17.59it/s]\n"
     ]
    },
    {
     "name": "stdout",
     "output_type": "stream",
     "text": [
      "Acc: 22.40\n"
     ]
    },
    {
     "name": "stderr",
     "output_type": "stream",
     "text": [
      "Training epoch 33: 100%|██████████| 250/250 [00:38<00:00,  6.47it/s]\n",
      "Testing: 100%|██████████| 63/63 [00:03<00:00, 17.72it/s]\n"
     ]
    },
    {
     "name": "stdout",
     "output_type": "stream",
     "text": [
      "Acc: 22.97\n"
     ]
    },
    {
     "name": "stderr",
     "output_type": "stream",
     "text": [
      "Training epoch 34: 100%|██████████| 250/250 [00:38<00:00,  6.48it/s]\n",
      "Testing: 100%|██████████| 63/63 [00:03<00:00, 17.43it/s]\n"
     ]
    },
    {
     "name": "stdout",
     "output_type": "stream",
     "text": [
      "Acc: 22.57\n"
     ]
    },
    {
     "name": "stderr",
     "output_type": "stream",
     "text": [
      "Training epoch 35: 100%|██████████| 250/250 [00:38<00:00,  6.53it/s]\n",
      "Testing: 100%|██████████| 63/63 [00:03<00:00, 18.01it/s]\n"
     ]
    },
    {
     "name": "stdout",
     "output_type": "stream",
     "text": [
      "Acc: 22.78\n"
     ]
    },
    {
     "name": "stderr",
     "output_type": "stream",
     "text": [
      "Training epoch 36: 100%|██████████| 250/250 [00:38<00:00,  6.52it/s]\n",
      "Testing: 100%|██████████| 63/63 [00:03<00:00, 17.65it/s]\n"
     ]
    },
    {
     "name": "stdout",
     "output_type": "stream",
     "text": [
      "Acc: 22.59\n"
     ]
    },
    {
     "name": "stderr",
     "output_type": "stream",
     "text": [
      "Training epoch 37: 100%|██████████| 250/250 [00:38<00:00,  6.54it/s]\n",
      "Testing: 100%|██████████| 63/63 [00:03<00:00, 17.57it/s]\n"
     ]
    },
    {
     "name": "stdout",
     "output_type": "stream",
     "text": [
      "Acc: 22.76\n"
     ]
    },
    {
     "name": "stderr",
     "output_type": "stream",
     "text": [
      "Training epoch 38: 100%|██████████| 250/250 [00:38<00:00,  6.52it/s]\n",
      "Testing: 100%|██████████| 63/63 [00:03<00:00, 17.60it/s]\n"
     ]
    },
    {
     "name": "stdout",
     "output_type": "stream",
     "text": [
      "Acc: 22.63\n"
     ]
    },
    {
     "name": "stderr",
     "output_type": "stream",
     "text": [
      "Training epoch 39: 100%|██████████| 250/250 [00:38<00:00,  6.52it/s]\n",
      "Testing: 100%|██████████| 63/63 [00:03<00:00, 17.85it/s]\n"
     ]
    },
    {
     "name": "stdout",
     "output_type": "stream",
     "text": [
      "Acc: 23.19\n"
     ]
    },
    {
     "name": "stderr",
     "output_type": "stream",
     "text": [
      "Training epoch 40: 100%|██████████| 250/250 [00:38<00:00,  6.51it/s]\n",
      "Testing: 100%|██████████| 63/63 [00:03<00:00, 17.82it/s]\n"
     ]
    },
    {
     "name": "stdout",
     "output_type": "stream",
     "text": [
      "Acc: 22.65\n"
     ]
    },
    {
     "name": "stderr",
     "output_type": "stream",
     "text": [
      "Training epoch 41: 100%|██████████| 250/250 [00:38<00:00,  6.55it/s]\n",
      "Testing: 100%|██████████| 63/63 [00:03<00:00, 17.73it/s]\n"
     ]
    },
    {
     "name": "stdout",
     "output_type": "stream",
     "text": [
      "Acc: 23.21\n"
     ]
    },
    {
     "name": "stderr",
     "output_type": "stream",
     "text": [
      "Training epoch 42: 100%|██████████| 250/250 [00:38<00:00,  6.48it/s]\n",
      "Testing: 100%|██████████| 63/63 [00:03<00:00, 17.41it/s]\n"
     ]
    },
    {
     "name": "stdout",
     "output_type": "stream",
     "text": [
      "Acc: 22.78\n"
     ]
    },
    {
     "name": "stderr",
     "output_type": "stream",
     "text": [
      "Training epoch 43: 100%|██████████| 250/250 [00:38<00:00,  6.48it/s]\n",
      "Testing: 100%|██████████| 63/63 [00:03<00:00, 17.73it/s]\n"
     ]
    },
    {
     "name": "stdout",
     "output_type": "stream",
     "text": [
      "Acc: 23.08\n"
     ]
    },
    {
     "name": "stderr",
     "output_type": "stream",
     "text": [
      "Training epoch 44: 100%|██████████| 250/250 [00:38<00:00,  6.51it/s]\n",
      "Testing: 100%|██████████| 63/63 [00:03<00:00, 17.68it/s]\n"
     ]
    },
    {
     "name": "stdout",
     "output_type": "stream",
     "text": [
      "Acc: 23.00\n"
     ]
    },
    {
     "name": "stderr",
     "output_type": "stream",
     "text": [
      "Training epoch 45: 100%|██████████| 250/250 [00:38<00:00,  6.51it/s]\n",
      "Testing: 100%|██████████| 63/63 [00:03<00:00, 17.68it/s]\n"
     ]
    },
    {
     "name": "stdout",
     "output_type": "stream",
     "text": [
      "Acc: 23.10\n"
     ]
    },
    {
     "name": "stderr",
     "output_type": "stream",
     "text": [
      "Training epoch 46: 100%|██████████| 250/250 [00:38<00:00,  6.49it/s]\n",
      "Testing: 100%|██████████| 63/63 [00:03<00:00, 17.58it/s]\n"
     ]
    },
    {
     "name": "stdout",
     "output_type": "stream",
     "text": [
      "Acc: 20.63\n"
     ]
    },
    {
     "name": "stderr",
     "output_type": "stream",
     "text": [
      "Training epoch 47: 100%|██████████| 250/250 [00:38<00:00,  6.47it/s]\n",
      "Testing: 100%|██████████| 63/63 [00:03<00:00, 17.40it/s]\n"
     ]
    },
    {
     "name": "stdout",
     "output_type": "stream",
     "text": [
      "Acc: 23.19\n"
     ]
    },
    {
     "name": "stderr",
     "output_type": "stream",
     "text": [
      "Training epoch 48: 100%|██████████| 250/250 [00:38<00:00,  6.48it/s]\n",
      "Testing: 100%|██████████| 63/63 [00:03<00:00, 17.60it/s]\n"
     ]
    },
    {
     "name": "stdout",
     "output_type": "stream",
     "text": [
      "Acc: 22.43\n"
     ]
    },
    {
     "name": "stderr",
     "output_type": "stream",
     "text": [
      "Training epoch 49: 100%|██████████| 250/250 [00:38<00:00,  6.53it/s]\n",
      "Testing: 100%|██████████| 63/63 [00:03<00:00, 17.51it/s]\n"
     ]
    },
    {
     "name": "stdout",
     "output_type": "stream",
     "text": [
      "Acc: 23.25\n"
     ]
    },
    {
     "name": "stderr",
     "output_type": "stream",
     "text": [
      "Training epoch 50: 100%|██████████| 250/250 [00:38<00:00,  6.53it/s]\n",
      "Testing: 100%|██████████| 63/63 [00:03<00:00, 17.65it/s]\n"
     ]
    },
    {
     "name": "stdout",
     "output_type": "stream",
     "text": [
      "Acc: 21.98\n"
     ]
    },
    {
     "name": "stderr",
     "output_type": "stream",
     "text": [
      "Training epoch 51: 100%|██████████| 250/250 [00:38<00:00,  6.48it/s]\n",
      "Testing: 100%|██████████| 63/63 [00:03<00:00, 17.85it/s]\n"
     ]
    },
    {
     "name": "stdout",
     "output_type": "stream",
     "text": [
      "Acc: 23.00\n"
     ]
    },
    {
     "name": "stderr",
     "output_type": "stream",
     "text": [
      "Training epoch 52: 100%|██████████| 250/250 [00:38<00:00,  6.54it/s]\n",
      "Testing: 100%|██████████| 63/63 [00:03<00:00, 17.87it/s]\n"
     ]
    },
    {
     "name": "stdout",
     "output_type": "stream",
     "text": [
      "Acc: 22.98\n"
     ]
    },
    {
     "name": "stderr",
     "output_type": "stream",
     "text": [
      "Training epoch 53: 100%|██████████| 250/250 [00:38<00:00,  6.54it/s]\n",
      "Testing: 100%|██████████| 63/63 [00:03<00:00, 17.93it/s]\n"
     ]
    },
    {
     "name": "stdout",
     "output_type": "stream",
     "text": [
      "Acc: 22.67\n"
     ]
    },
    {
     "name": "stderr",
     "output_type": "stream",
     "text": [
      "Training epoch 54: 100%|██████████| 250/250 [00:38<00:00,  6.53it/s]\n",
      "Testing: 100%|██████████| 63/63 [00:03<00:00, 17.48it/s]\n"
     ]
    },
    {
     "name": "stdout",
     "output_type": "stream",
     "text": [
      "Acc: 22.86\n"
     ]
    },
    {
     "name": "stderr",
     "output_type": "stream",
     "text": [
      "Training epoch 55: 100%|██████████| 250/250 [00:38<00:00,  6.51it/s]\n",
      "Testing: 100%|██████████| 63/63 [00:03<00:00, 17.92it/s]\n"
     ]
    },
    {
     "name": "stdout",
     "output_type": "stream",
     "text": [
      "Acc: 23.25\n"
     ]
    },
    {
     "name": "stderr",
     "output_type": "stream",
     "text": [
      "Training epoch 56: 100%|██████████| 250/250 [00:38<00:00,  6.51it/s]\n",
      "Testing: 100%|██████████| 63/63 [00:03<00:00, 17.83it/s]\n"
     ]
    },
    {
     "name": "stdout",
     "output_type": "stream",
     "text": [
      "Acc: 23.06\n"
     ]
    },
    {
     "name": "stderr",
     "output_type": "stream",
     "text": [
      "Training epoch 57: 100%|██████████| 250/250 [00:38<00:00,  6.48it/s]\n",
      "Testing: 100%|██████████| 63/63 [00:03<00:00, 17.37it/s]\n"
     ]
    },
    {
     "name": "stdout",
     "output_type": "stream",
     "text": [
      "Acc: 22.89\n"
     ]
    },
    {
     "name": "stderr",
     "output_type": "stream",
     "text": [
      "Training epoch 58: 100%|██████████| 250/250 [00:38<00:00,  6.51it/s]\n",
      "Testing: 100%|██████████| 63/63 [00:03<00:00, 17.62it/s]\n"
     ]
    },
    {
     "name": "stdout",
     "output_type": "stream",
     "text": [
      "Acc: 22.94\n"
     ]
    },
    {
     "name": "stderr",
     "output_type": "stream",
     "text": [
      "Training epoch 59: 100%|██████████| 250/250 [00:38<00:00,  6.52it/s]\n",
      "Testing: 100%|██████████| 63/63 [00:03<00:00, 17.68it/s]\n"
     ]
    },
    {
     "name": "stdout",
     "output_type": "stream",
     "text": [
      "Acc: 22.63\n"
     ]
    },
    {
     "name": "stderr",
     "output_type": "stream",
     "text": [
      "Training epoch 60: 100%|██████████| 250/250 [00:38<00:00,  6.51it/s]\n",
      "Testing: 100%|██████████| 63/63 [00:03<00:00, 17.61it/s]\n"
     ]
    },
    {
     "name": "stdout",
     "output_type": "stream",
     "text": [
      "Acc: 22.94\n"
     ]
    },
    {
     "name": "stderr",
     "output_type": "stream",
     "text": [
      "Training epoch 61: 100%|██████████| 250/250 [00:39<00:00,  6.34it/s]\n",
      "Testing: 100%|██████████| 63/63 [00:03<00:00, 17.64it/s]\n"
     ]
    },
    {
     "name": "stdout",
     "output_type": "stream",
     "text": [
      "Acc: 22.68\n"
     ]
    },
    {
     "name": "stderr",
     "output_type": "stream",
     "text": [
      "Training epoch 62: 100%|██████████| 250/250 [00:38<00:00,  6.42it/s]\n",
      "Testing: 100%|██████████| 63/63 [00:03<00:00, 17.43it/s]\n"
     ]
    },
    {
     "name": "stdout",
     "output_type": "stream",
     "text": [
      "Acc: 23.16\n"
     ]
    },
    {
     "name": "stderr",
     "output_type": "stream",
     "text": [
      "Training epoch 63: 100%|██████████| 250/250 [00:38<00:00,  6.46it/s]\n",
      "Testing: 100%|██████████| 63/63 [00:03<00:00, 17.29it/s]\n"
     ]
    },
    {
     "name": "stdout",
     "output_type": "stream",
     "text": [
      "Acc: 23.44\n"
     ]
    },
    {
     "name": "stderr",
     "output_type": "stream",
     "text": [
      "Training epoch 64:  40%|████      | 101/250 [00:15<00:22,  6.62it/s]"
     ]
    },
    {
     "ename": "",
     "evalue": "",
     "output_type": "error",
     "traceback": [
      "\u001b[1;31mCanceled future for execute_request message before replies were done"
     ]
    },
    {
     "ename": "",
     "evalue": "",
     "output_type": "error",
     "traceback": [
      "\u001b[1;31mThe Kernel crashed while executing code in the the current cell or a previous cell. Please review the code in the cell(s) to identify a possible cause of the failure. Click <a href='https://aka.ms/vscodeJupyterKernelCrash'>here</a> for more info. View Jupyter <a href='command:jupyter.viewOutput'>log</a> for further details."
     ]
    }
   ],
   "source": [
    "# 训练过程\n",
    "# 记录当前训练时间，用以记录日志和存储\n",
    "timestamp = time.strftime(\"%m_%d_%H_%M\", time.localtime())\n",
    "device = torch.device(\"cuda\" if torch.cuda.is_available() else \"cpu\")\n",
    "model.train()\n",
    "for epoch in range(1,num_epoch+1):\n",
    "    total_loss=0\n",
    "    for batch in tqdm(train_dataloader,desc=f'Training epoch {epoch}'):\n",
    "        inputs,targets=[x.to(device) for x in batch]\n",
    "        optimizer.zero_grad()\n",
    "        bert_output=model(inputs)\n",
    "        loss=celoss(bert_output,targets)\n",
    "        loss.backward()\n",
    "        optimizer.step()\n",
    "        total_loss+=loss.item()\n",
    "    #测试过程\n",
    "    # acc统计模型在测试数据上分类结果中的正确个数\n",
    "    acc = 0\n",
    "    for batch in tqdm(test_dataloader, desc=f\"Testing\"):\n",
    "        inputs, targets = [x.to(device) for x in batch]\n",
    "        # with torch.no_grad(): 为固定写法，\n",
    "        # 这个代码块中的全部有关tensor的操作都不产生梯度。目的是节省时间和空间，不加也没事\n",
    "        with torch.no_grad():\n",
    "            bert_output = model(inputs)\n",
    "            \"\"\"\n",
    "            .argmax()用于取出一个tensor向量中的最大值对应的下表序号，dim指定了维度\n",
    "            假设 bert_output为3*2的tensor：\n",
    "            tensor\n",
    "            [\n",
    "                [3.2,1.1],\n",
    "                [0.4,0.6],\n",
    "                [-0.1,0.2]\n",
    "            ]\n",
    "            则 bert_output.argmax(dim=1) 的结果为：tensor[0,1,1]\n",
    "            \"\"\"\n",
    "            acc += (bert_output.argmax(dim=1) == targets).sum().item()\n",
    "    #输出在测试集上的准确率\n",
    "    print(f\"Acc: {acc / len(test_dataloader):.2f}\")\n",
    "    if epoch % check_step == 0:\n",
    "        # 保存模型\n",
    "        checkpoints_dirname = \"bert_sst2_\" + timestamp\n",
    "        os.makedirs(checkpoints_dirname, exist_ok=True)\n",
    "        save_pretrained(model,\n",
    "                        checkpoints_dirname + '/checkpoints-{}/'.format(epoch))"
   ]
  },
  {
   "cell_type": "code",
   "execution_count": null,
   "metadata": {},
   "outputs": [
    {
     "name": "stdout",
     "output_type": "stream",
     "text": [
      "This is a negative sentence\n"
     ]
    }
   ],
   "source": [
    "model  = torch.load('../src/bert_sst2_04_05_20_50/checkpoints-200/model.pth')\n",
    "model.eval()\n",
    "test='why you are so nerd'\n",
    "test=tokenizer(test,padding=True,\n",
    "                    truncation=True,\n",
    "                    return_tensors=\"pt\",\n",
    "                    max_length=512)\n",
    "test.to(device)\n",
    "if model(test).argmax(-1).item()==1:\n",
    "    print('This is a negative sentence')\n",
    "else:\n",
    "    print('This is a positive sentence')"
   ]
  }
 ],
 "metadata": {
  "kernelspec": {
   "display_name": "Python 3.9.13 ('xclds')",
   "language": "python",
   "name": "python3"
  },
  "language_info": {
   "codemirror_mode": {
    "name": "ipython",
    "version": 3
   },
   "file_extension": ".py",
   "mimetype": "text/x-python",
   "name": "python",
   "nbconvert_exporter": "python",
   "pygments_lexer": "ipython3",
   "version": "3.9.13"
  },
  "orig_nbformat": 4,
  "vscode": {
   "interpreter": {
    "hash": "9f1e55e74c766e763530812631a72120f1fc83c0fcf0b61c7a0638716cdefb0e"
   }
  }
 },
 "nbformat": 4,
 "nbformat_minor": 2
}
