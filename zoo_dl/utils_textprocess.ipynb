{
 "cells": [
  {
   "cell_type": "markdown",
   "metadata": {},
   "source": [
    "## 文本预处理\n",
    "在序列处理问题过程中，存在很多种序列学习的形式，例如一篇文章可以简单的看作一串单词序列、甚至是一串字符串序列，这里需要将文本解析转换为不同的token。常见的解析问题的步骤包括：\n",
    "1. 获取或者制作文本数据集\n",
    "2. 将文本作为字符串加载到内存中\n",
    "3. 将字符串转换为token\n",
    "3. 建议一个dictionary，将token mapping 到 number\n",
    "5. 将文本转换成为数字索引序列，方面模型操作\n"
   ]
  },
  {
   "cell_type": "code",
   "execution_count": 1,
   "metadata": {},
   "outputs": [],
   "source": [
    "import collections\n",
    "import re"
   ]
  },
  {
   "cell_type": "code",
   "execution_count": 2,
   "metadata": {},
   "outputs": [],
   "source": [
    "# 预先从Google上搜到timetable.txt prompt:timemachine filetype:txt\n",
    "# Txt -> python.string\n",
    "with open('../data/timemachine.txt') as f:\n",
    "    lines = f.readlines()\n",
    "    rawDataset = [re.sub('[^A-Za-z]+',' ',line).strip().lower() for line in lines]"
   ]
  },
  {
   "cell_type": "code",
   "execution_count": 3,
   "metadata": {},
   "outputs": [],
   "source": [
    "# python.string -> token\n",
    "\n",
    "def Corpus(rawDataset,tokenType):\n",
    "    if tokenType == 'char':\n",
    "        '''如果是按照char来划分词元'''\n",
    "        tokenDataset = [list(line) for line in rawDataset]\n",
    "    elif tokenType == 'word':\n",
    "        '''如果是按照word来划分词元'''\n",
    "        tokenDataset = [line.split() for line in lines]\n",
    "    return  [chars for lines in tokenDataset for chars in lines]\n",
    "corpus = Corpus(rawDataset,'char')"
   ]
  },
  {
   "cell_type": "code",
   "execution_count": 4,
   "metadata": {},
   "outputs": [],
   "source": [
    "# Token ->(vocabulary or something)-> Vector\n",
    "\n",
    "###############################################\n",
    "# Define:\n",
    "# Vocabulary:词表，用于将Python.string的Token映射到0开始的数据Vector\n",
    "# Corpus:语料，将训练集合中所有的文档合并在一起，对唯一词元进行统计,里面全部为token\n",
    "# TRICK:根据每个词元出现的频率，为其分配数字索引，很少出现的词语通常会被移除，这样来降低复杂性\n",
    "# TRICK:corpus中不存在或者已经删除都可以映射成为一个特定的token，比如'<unk>'\n",
    "# TRICK:可以选择增加一个列表，用于保存已经存在的列表，比如'<pad>','<bos>','<eos>'\n",
    "###############################################\n",
    "\n",
    "class vocab:\n",
    "    def __init__(self,tokenDataset,min_freq=0):\n",
    "        '''\n",
    "        定义一个词表 vocabulary\n",
    "        将 python.list(python.string) -> python.list[python.tuple(python.string,python.tuple)]\n",
    "        '''\n",
    "        token = []\n",
    "\n",
    "        # 定义保留的token\n",
    "        reserved_tokens = []\n",
    "        counter = collections.Counter(tokenDataset)\n",
    "        # print(counter)\n",
    "\n",
    "        # 按照出现频率排序\n",
    "        self._token_freq = sorted(counter.items(),key=lambda x:x[1],reverse=True)\n",
    "\n",
    "        # step1:添加未知词元和保留词元\n",
    "        self.idx_to_token = ['<unk>']+reserved_tokens\n",
    "        self.token_to_idx = {token:index for index,token in enumerate(self.idx_to_token)}\n",
    "\n",
    "        # step2:添加根据频率得到的词元，按照频率进行排序\n",
    "        # 可以看出除了freq排序之外，应该还有其他的方法\n",
    "        for token,freq in self._token_freq:\n",
    "            if freq < min_freq:\n",
    "                break\n",
    "            if token not in self.token_to_idx:\n",
    "                self.idx_to_token.append(token)\n",
    "                self.token_to_idx[token] = len(self.idx_to_token) - 1\n",
    "    \n",
    "    def __len__(self):\n",
    "        return len(self.idx_to_token)\n",
    "    \n",
    "    def __getitem__(self,tokens):\n",
    "        if not isinstance(tokens,(list,tuple)):\n",
    "            return self.token_to_idx.get(tokens,self.unk())\n",
    "        return [self.__getitem__(token) for token in tokens]\n",
    "    \n",
    "    def unk(self):\n",
    "        return 0\n",
    "    \n",
    "    def token_freq(self):\n",
    "        return self._token_freq\n",
    "\n",
    "# voc = vocab(corpus)\n",
    "# for i in range(10):\n",
    "#     print(corpus[i])\n",
    "#     print(voc[corpus[i]])"
   ]
  },
  {
   "cell_type": "markdown",
   "metadata": {},
   "source": [
    "## 文本统计\n",
    "上述文本预处理的过程，成功将 \n",
    "txt \n",
    "-> python.string \n",
    "-> corpus(tokenize) \n",
    "-> voc(based on freq)\n",
    "后续我们可以对其进行一定的统计分析，站在Assumption的基础上\n",
    "\n",
    "Assumption：基本的概率规则\n",
    "为了训练语言模型，我们需要计算单词的概率，以及给定前面几个单词之后出现某个单词的条件概率，这些概率本质上是语言模型的参数\n",
    "一种常见的方式是使用频率代替概率，使用出现的次数计算，但是这样的坏处在三元组或者更多的情况下，出现次数较低。一种常见的方式是使用Laplace平滑，也就是增加一个洗哦的常量，但是这样的模型容易变得无效。\n",
    "\n",
    "IDEA：这种方式是可学习的，说明有可能用其他的方式来得到更好的计算概率的方式"
   ]
  },
  {
   "cell_type": "code",
   "execution_count": 5,
   "metadata": {},
   "outputs": [
    {
     "name": "stderr",
     "output_type": "stream",
     "text": [
      "/var/folders/c7/cm14vhdj4pg24ynjxgy8pgd40000gn/T/ipykernel_21752/3711440412.py:6: RuntimeWarning: divide by zero encountered in log10\n",
      "  x = [np.log10(x) for x in range(len(freq))]\n"
     ]
    },
    {
     "data": {
      "text/plain": [
       "[<matplotlib.lines.Line2D at 0x11f375160>]"
      ]
     },
     "execution_count": 5,
     "metadata": {},
     "output_type": "execute_result"
    },
    {
     "data": {
      "image/png": "[encoded data removed]",
      "text/plain": [
       "<Figure size 640x480 with 1 Axes>"
      ]
     },
     "metadata": {},
     "output_type": "display_data"
    }
   ],
   "source": [
    "corpus = Corpus(rawDataset,'word')\n",
    "newVOC = vocab(corpus,min_freq=4)\n",
    "import numpy as np\n",
    "freq = [np.log10(t[1]) for t in newVOC.token_freq()]\n",
    "import matplotlib.pyplot as plt\n",
    "x = [np.log10(x) for x in range(len(freq))]\n",
    "plt.plot(x,freq)"
   ]
  },
  {
   "cell_type": "code",
   "execution_count": 6,
   "metadata": {},
   "outputs": [
    {
     "name": "stderr",
     "output_type": "stream",
     "text": [
      "/var/folders/c7/cm14vhdj4pg24ynjxgy8pgd40000gn/T/ipykernel_21752/2346354419.py:5: RuntimeWarning: divide by zero encountered in log10\n",
      "  x = [np.log10(X) for X in range(len(y))]\n"
     ]
    },
    {
     "data": {
      "text/plain": [
       "[<matplotlib.lines.Line2D at 0x11f2be2b0>]"
      ]
     },
     "execution_count": 6,
     "metadata": {},
     "output_type": "execute_result"
    },
    {
     "data": {
      "image/png": "[encoded data removed]",
      "text/plain": [
       "<Figure size 640x480 with 1 Axes>"
      ]
     },
     "metadata": {},
     "output_type": "display_data"
    }
   ],
   "source": [
    "# 之后构建不同元组、1元组、2元组、3元组\n",
    "binaryGram = [pair for pair in zip(corpus[:-1],corpus[1:])]\n",
    "binaryVoc = vocab(binaryGram)\n",
    "y = [np.log10(t[1]) for t in binaryVoc.token_freq()]\n",
    "x = [np.log10(X) for X in range(len(y))]\n",
    "plt.plot(x,y)"
   ]
  },
  {
   "cell_type": "markdown",
   "metadata": {},
   "source": [
    "## 令人惊讶的结论\n",
    "- 除了一元语法词、单词序列也遵循语言的定律，虽然公式的参数可能不同\n",
    "\n",
    "- 词表中的n元组并没有那么大，说明语言中存在相当多的结果，这种结构以为着需要更加复杂的模型来学习，单纯的依靠频率是不可行的\n",
    "\n",
    "- 很多n元组很少出现，这是的拉普拉斯平滑非常不适合语言建模，替代的，需要使用基于深度学习的模型来进行学习。"
   ]
  },
  {
   "cell_type": "markdown",
   "metadata": {},
   "source": [
    "## 构建数据集\n",
    "尽管得到了token、corpus和vocab，一次性的将所有的dataset送给神经网络进行学习是一就是困难的，因为我们很难一次性的解决所有的数据集生成，所以这里可以使用常见的两种方式\n",
    "\n",
    "- (1) 随机采样 random sampling；随机采样中每个样本都是在原始的长序列上任意捕捉子序列，在迭代过程中，来自两个相邻的、随机的、小批量中的子序列不一定在原始序列上相邻。（到目前为止）基于到目前为止看到的tokens来预测下一个token\n",
    "\n",
    "需要的参数：batchsize、numSteps\n",
    "\n",
    "- (2) 顺序分区 sequential partitioning\n",
    "\n",
    "的方式来构建数据集。\n",
    "\n",
    "总体策略：保证覆盖性和随机性。coverage and randomness\n",
    "\n",
    "TRICK：为了保证内存小的占有量，在构建dataset的时候，只需要设置好对应的index就行，在之前sin的时间序列预测中，因为本来就是一维的数组\n"
   ]
  },
  {
   "cell_type": "code",
   "execution_count": 7,
   "metadata": {},
   "outputs": [],
   "source": [
    "import random\n",
    "import torch\n",
    "def randomSampling(corpus,voc,batchsize,num_steps):\n",
    "    ''' 使用随机抽样生成一个小批量'''\n",
    "    corpus = corpus[random.randint(0,num_steps-1):]\n",
    "    num_subseqs = (len(corpus)-1)//num_steps\n",
    "\n",
    "    # 长度为num_steps的子序列的初始索引,每一个特征的开始\n",
    "    # 并随机打断\n",
    "    initial_indices = list(range(0,num_subseqs*num_steps,num_steps))\n",
    "    random.shuffle(initial_indices)\n",
    "\n",
    "    def data(pos):\n",
    "        '''返回从pos位置开始的长度为num_steps的序列'''\n",
    "        return [voc.__getitem__(token) for token in corpus[pos:pos+num_steps]]\n",
    "    \n",
    "    num_batches = num_subseqs // batchsize\n",
    "\n",
    "    for i in range(0,batchsize*num_batches,batchsize):\n",
    "        initial_indices_batch = initial_indices[i:i+batchsize]\n",
    "        X = [data(j) for j in initial_indices_batch]\n",
    "        Y = [data(j+1) for j in initial_indices_batch]\n",
    "        # HINT: python.list(torch.tensor)不能之间转换为tensor，需要转换先python.list(python.list)\n",
    "        # yield torch.tensor([x.tolist() for x in X]),torch.tensor([y.tolist() for y in Y])\n",
    "        yield torch.tensor(X),torch.tensor(Y)\n",
    "\n",
    "# testseq = torch.arange(100)\n",
    "# for x,y in randomSampling(testseq,batchsize=4,num_steps=3):\n",
    "#     print(x,y)\n",
    "#     break\n",
    "    "
   ]
  },
  {
   "cell_type": "code",
   "execution_count": 8,
   "metadata": {},
   "outputs": [],
   "source": [
    "batchsize = 2\n",
    "num_steps = 3\n",
    "data_iter = randomSampling(corpus,newVOC,batchsize,num_steps)\n",
    "\n",
    "# test for the corpus\n",
    "# for x,y in data_iter:\n",
    "#     print(x,y)\n",
    "#     break"
   ]
  },
  {
   "cell_type": "markdown",
   "metadata": {},
   "source": [
    "## 模型创建\n",
    "在上述原始数据获取、数据集制作的过程中，一个重要的特点是我们没有使用torch.utils.data.Dataset和torhc.utils.data.Dataloader，而是用自己的方式写出一个generation，感觉有点奇怪，这里需要看一下是否有更加巧妙的方法。\n",
    "\n",
    "这里的pipeline总结：\n",
    "txt文件 --> python.string -->python.list -->tokenize to corpus -->create voc(based on freq)\n",
    "--> dataloader(based on the randomSampling and sequentitalPartition)\n",
    "\n",
    "由此我们得到对应的batch size和num steps的train_iter,之后可以构建模型开始训练\n",
    "注意这里的输入是 batchsize * num_step,输出也是batchsize * num_step; 因为这里的feature size不是1，所以不需要设置，之后的学习过程应该设置 batchsize * num_step * feature dimension\n",
    "\n",
    "这里依旧采用Recurrent network作为learner，这里需要一点基本的知识，作为模型的神经网络化。同时是用MLP的基础上诞生的\n",
    "1. 无隐藏状态的单纯的MLP\n",
    "2. 有隐藏状态的RNN\n",
    "\n",
    "循环神经网络的好处包括\n",
    "1. 对隐藏状态使用循环计算的神经网络\n",
    "2. 循环神经网络的隐状态可以直接捕捉到当前时间序列的历史信息\n",
    "3. 循环神经网络的参数数量不会随着时间步的增加而增加\n",
    "4. 可以使用循环神经网络来创建字符的语言模型"
   ]
  },
  {
   "cell_type": "code",
   "execution_count": 9,
   "metadata": {},
   "outputs": [],
   "source": [
    "# onehot 编码\n",
    "from torch.nn import functional as F\n",
    "# for x,y in data_iter:\n",
    "#     print(F.one_hot(x),len(newVOC))\n",
    "#     break"
   ]
  },
  {
   "cell_type": "code",
   "execution_count": 10,
   "metadata": {},
   "outputs": [],
   "source": [
    "class RNNModelScratch:\n",
    "    '''手撕 RNN '''\n",
    "    def __init__(self,vocab_size,num_hiddens,device):\n",
    "        self.vocabsize,self.num_hiddens,self.device = vocab_size,num_hiddens,device\n",
    "        self.params = self.get_params()\n",
    "    \n",
    "    def __call__(self,X,state):\n",
    "        X = F.one_hot(X.T,self.vocabsize).type(torch.float)\n",
    "        return self.rnn(X,state)\n",
    "    \n",
    "    def rnn(self,inputs,state):\n",
    "        ''' 前向传递 '''\n",
    "        W_xh,W_hh,b_h,W_hq,b_q = self.params\n",
    "        H, = state\n",
    "        outputs = []\n",
    "        # X.shape = [batchsize,dimension]\n",
    "        for X in inputs:\n",
    "            \n",
    "            H = torch.tanh(torch.mm(X,W_xh) + torch.mm(H,W_hh) + b_h)\n",
    "            Y = torch.mm(H,W_hq) + b_q\n",
    "            outputs.append(Y)\n",
    "        \n",
    "        # Hint:使用torch.cat 也可以解决python.list(torch.tensor)不能合并的问题\n",
    "        return torch.cat(outputs,dim=0),(H,)\n",
    "\n",
    "    def get_params(self):\n",
    "        ''' 初始化参数 '''\n",
    "        self.input = self.output = self.vocabsize\n",
    "\n",
    "        def normal(shape):\n",
    "            return torch.randn(size=shape,device = self.device)*0.01\n",
    "        \n",
    "        # hidden layer parameters\n",
    "        W_xh = normal((self.input,self.num_hiddens))\n",
    "        W_hh = normal((self.num_hiddens,self.num_hiddens))\n",
    "        b_h = torch.zeros(self.num_hiddens,device=self.device)\n",
    "\n",
    "        # output layer parameters\n",
    "        W_ho = normal((self.num_hiddens,self.output))\n",
    "        b_o = torch.zeros(self.output,device=self.device)\n",
    "        return W_xh,W_hh,b_h,W_ho,b_o\n",
    "\n",
    "    \n",
    "    def begin_state(self):\n",
    "        '''初始化状态'''\n",
    "        return (torch.zeros((batchsize,self.num_hiddens),device=self.device),)\n",
    "\n",
    "device = torch.device('mps')\n",
    "net = RNNModelScratch(vocab_size=len(newVOC),num_hiddens=512,device=device)\n",
    "state = net.begin_state()\n",
    "\n",
    "# for x,y in data_iter:\n",
    "#     x,y = x.to(device),y.to(device)\n",
    "#     Y_hat,new_state = net(x,state)\n",
    "#     break\n",
    "# Y_hat.shape"
   ]
  },
  {
   "cell_type": "code",
   "execution_count": 11,
   "metadata": {},
   "outputs": [
    {
     "ename": "",
     "evalue": "",
     "output_type": "error",
     "traceback": [
      "\u001b[1;31mThe Kernel crashed while executing code in the the current cell or a previous cell. Please review the code in the cell(s) to identify a possible cause of the failure. Click <a href='https://aka.ms/vscodeJupyterKernelCrash'>here</a> for more info. View Jupyter <a href='command:jupyter.viewOutput'>log</a> for further details."
     ]
    },
    {
     "ename": "",
     "evalue": "",
     "output_type": "error",
     "traceback": [
      "\u001b[1;31mCanceled future for execute_request message before replies were done"
     ]
    }
   ],
   "source": [
    "# train with the gradient clip\n",
    "loss = torch.nn.CrossEntropyLoss()\n",
    "opt = torch.optim.Adam(net.params,lr=0.05)\n",
    "for X,Y in data_iter:\n",
    "    x,y = X.to(device),Y.to(device)\n",
    "\n",
    "    # 这里为什么要reshape\n",
    "    y = y.T.reshape(-1)\n",
    "    if state == None:\n",
    "        state = net.begin_state()\n",
    "    else:\n",
    "        for s in state:\n",
    "            '''question:这里的目的是为什么'''\n",
    "            s.detach_()\n",
    "    y_hat,state = net(x,state)\n",
    "    opt.zero_grad()\n",
    "    l = loss(y,y_hat)\n",
    "    l.mean().backward()\n",
    "    opt.step()\n",
    "    print(l.mean())\n"
   ]
  }
 ],
 "metadata": {
  "kernelspec": {
   "display_name": "Python 3.9.16 ('tf2')",
   "language": "python",
   "name": "python3"
  },
  "language_info": {
   "codemirror_mode": {
    "name": "ipython",
    "version": 3
   },
   "file_extension": ".py",
   "mimetype": "text/x-python",
   "name": "python",
   "nbconvert_exporter": "python",
   "pygments_lexer": "ipython3",
   "version": "3.9.16"
  },
  "orig_nbformat": 4,
  "vscode": {
   "interpreter": {
    "hash": "82ca69f3d02436474f504e5bc8aa3d57c6bfabac6fe00c9a130f4089cd6bf168"
   }
  }
 },
 "nbformat": 4,
 "nbformat_minor": 2
}
