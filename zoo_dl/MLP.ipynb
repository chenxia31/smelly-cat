{
 "cells": [
  {
   "cell_type": "markdown",
   "metadata": {},
   "source": [
    "## 线性回归"
   ]
  },
  {
   "cell_type": "markdown",
   "metadata": {},
   "source": [
    "在之前的CS229中，线性回归（Linear regression）作为机器学习的Hello world，让我们了解到学习模型（supervised learning algorithm）会包括几个部分：\n",
    "1. 数据集（dataset）\n",
    "2. 假设（hypothesis）\n",
    "3. 损失函数（loss function）\n",
    "4. 优化方法（optimization method）"
   ]
  },
  {
   "cell_type": "code",
   "execution_count": 1,
   "metadata": {},
   "outputs": [
    {
     "data": {
      "text/plain": [
       "<matplotlib.collections.PathCollection at 0x7f8ebfee4700>"
      ]
     },
     "execution_count": 1,
     "metadata": {},
     "output_type": "execute_result"
    },
    {
     "data": {
      "image/png": "[encoded data removed]",
      "text/plain": [
       "<Figure size 640x480 with 1 Axes>"
      ]
     },
     "metadata": {},
     "output_type": "display_data"
    }
   ],
   "source": [
    "import torch\n",
    "import matplotlib.pyplot as plt\n",
    "def gen_data(w,b,num_examples):\n",
    "    \"\"\"生成y=Xw+b的噪声\"\"\"\n",
    "    # dtype=float\n",
    "    X = torch.normal(0,1,(num_examples,len(w)),dtype=float)\n",
    "    y = torch.matmul(X,w)\n",
    "    y += torch.normal(0,0.01,y.shape,dtype=float)\n",
    "    # reshape的意义在于将vector变成为matrix，vector应该是N，而matrix是N*1\n",
    "    return X,y.reshape((-1,1))\n",
    "true_w=torch.tensor([2,-3.4],dtype=float)\n",
    "true_b=4.2\n",
    "features,labels=gen_data(true_w,true_b,1000)\n",
    "plt.scatter(features[:,1],labels,1)"
   ]
  },
  {
   "cell_type": "markdown",
   "metadata": {},
   "source": [
    "## 构建模型\n",
    "在了解算法的基础上，如何使用代码构建出来是另外一个方面。两者可以是互补的！\n",
    "参照Tensorflow2.0 八股文的描述，我们将深度学习网络构建的过程也可以分为几个典型的步骤：\n",
    "1. 构建dataset\n",
    "2. 根据dataset生成不同的dataloader，方便后续批量梯度下降(batch gradient descent)\n",
    "3. 建立Model（根据hypothesis）\n",
    "4. 选择损失函数 loss function\n",
    "5. 优化器选择\n",
    "6. 超参数的设置 lr、epoch、batchsize\n",
    "7. 学习过程，批量梯度下降\n",
    "8. 评价指标，对于regression的分析常见的包括MSE、MAPE等等\n"
   ]
  },
  {
   "cell_type": "markdown",
   "metadata": {},
   "source": [
    "## 2.1 生成数据迭代器\n",
    "基于Python原生生成的迭代器虽然可以连续的获取不同的小批量，但是执行效率很低，因为此**要求将所有数据加载到内存中，并执行大量的随机内存访问**，所以通常深度学习框架会内置迭代器，用于处理存储在文件中的数据和数据流提供的数据"
   ]
  },
  {
   "cell_type": "code",
   "execution_count": 2,
   "metadata": {},
   "outputs": [],
   "source": [
    "import random\n",
    "def data_iter(batch_size,features,labels):\n",
    "    num_examples = len(features)\n",
    "    indices = list(range(num_examples))\n",
    "    # 样本随机读取，没有特定的顺序\n",
    "    random.shuffle(indices)\n",
    "    for i in range(0,num_examples,batch_size):\n",
    "        batch_indices = torch.tensor(\n",
    "            indices[i:min(i+batch_size,num_examples)]\n",
    "        )\n",
    "        yield features[batch_indices],labels[batch_indices]\n",
    "\n",
    "# batchsize=10\n",
    "# for X,y in data_iter(batch_size=batchsize,features=features,labels=labels):\n",
    "#     '''仅作为测试使用'''\n",
    "#     print(X,'\\n',y)\n",
    "#     break"
   ]
  },
  {
   "cell_type": "markdown",
   "metadata": {},
   "source": [
    "## 2.2 定义model\n",
    "同时也能够返回对应参数的parameters的size，这里和教科书不一样，我们使用class的方式来建立新的模型。\n"
   ]
  },
  {
   "cell_type": "code",
   "execution_count": 3,
   "metadata": {},
   "outputs": [],
   "source": [
    "class network:\n",
    "    def __init__(self) -> None:\n",
    "        self.w=torch.normal(0,0.01,size=(2,1),requires_grad=True,dtype=float)\n",
    "        self.b=torch.zeros(1,requires_grad=True,dtype=float)\n",
    "    \n",
    "    def predict(self,X):\n",
    "        return torch.matmul(X,self.w)+self.b\n",
    "    \n",
    "    def parameters(self):\n",
    "        '''返回对应参数的size'''\n",
    "        return [self.w,self.b]\n",
    "model=network()"
   ]
  },
  {
   "cell_type": "markdown",
   "metadata": {},
   "source": [
    "## 2.3 定义损失函数\n",
    "\n"
   ]
  },
  {
   "cell_type": "code",
   "execution_count": 4,
   "metadata": {},
   "outputs": [],
   "source": [
    "def get_weight(X,features):\n",
    "    '''权重分析'''\n",
    "    diff = X.unsqueeze(-2).unsqueeze(-2)- features.unsqueeze(-2)\n",
    "    w = torch.exp(-diff**2/0.000002).squeeze(-2).sum(axis=(1,2))\n",
    "    return w\n",
    "def square_loss(y_hat,y):\n",
    "    return (y_hat-y.reshape(y_hat.shape))**2/2\n",
    "# y_hat=model.predict(X)\n",
    "# res=square_loss(y_hat,y)\n",
    "# res.mean()\n",
    "def local_loss(y_hat,y,X):\n",
    "    new_w=get_weight(X,features)\n",
    "    return new_w.reshape(shape=(-1,1))*(y_hat-y.reshape(y_hat.shape))**2/2"
   ]
  },
  {
   "cell_type": "markdown",
   "metadata": {},
   "source": [
    "## 2.4 定义优化算法\n",
    "在计算机求解优化算法的过程中，我们可以先想一下我们需要什么东西？\n",
    "按照梯度下降的方式来进行神经网络的优化过程中，必然需要知道parameters的size，之后是对参数更新之后的长度learning rate，依旧每次下降的batch-size"
   ]
  },
  {
   "cell_type": "code",
   "execution_count": 5,
   "metadata": {},
   "outputs": [],
   "source": [
    "def sgd(params,lr,batchsize):\n",
    "    '''小批量随机梯度下降'''\n",
    "    # model.eval() 和 with torch.node_grad()区别是什么\n",
    "    # model.eval()主要用于model的validation过程中，通知dropout和batchnorm层在train\n",
    "    # val模式之间切换\n",
    "    # with torch.no_grad()主要是停止autograd模块的工作，起到加速和节省显存的作用\n",
    "    with torch.no_grad(): #??这是做什么的\n",
    "        for param in params:\n",
    "            param -= lr*param.grad/batchsize\n",
    "            param.grad.zero_()"
   ]
  },
  {
   "cell_type": "markdown",
   "metadata": {},
   "source": [
    "### 2.5 定义超参数"
   ]
  },
  {
   "cell_type": "code",
   "execution_count": 6,
   "metadata": {},
   "outputs": [],
   "source": [
    "lr = 0.05\n",
    "batchsize=10\n",
    "num_epoches = 4\n",
    "net = network()\n",
    "loss = square_loss"
   ]
  },
  {
   "cell_type": "markdown",
   "metadata": {},
   "source": [
    "## 2.6 开始训练"
   ]
  },
  {
   "cell_type": "code",
   "execution_count": 7,
   "metadata": {},
   "outputs": [
    {
     "name": "stdout",
     "output_type": "stream",
     "text": [
      "tensor(4.8949e-05, dtype=torch.float64)\n",
      "tensor(4.9046e-05, dtype=torch.float64)\n",
      "tensor(5.3049e-05, dtype=torch.float64)\n",
      "tensor(4.9374e-05, dtype=torch.float64)\n"
     ]
    }
   ],
   "source": [
    "for epoch in range(num_epoches):\n",
    "    for X,y in data_iter(batch_size=batchsize,features=features,labels=labels):\n",
    "        # l = loss(net.predict(X),y)\n",
    "        l = local_loss(net.predict(X),y,X)\n",
    "        l.sum().backward()\n",
    "        sgd(net.parameters(),lr,batchsize)\n",
    "    with torch.no_grad():\n",
    "        train_l=loss(net.predict(features),labels).mean()\n",
    "        print(train_l)\n"
   ]
  },
  {
   "cell_type": "code",
   "execution_count": 8,
   "metadata": {},
   "outputs": [
    {
     "name": "stdout",
     "output_type": "stream",
     "text": [
      "tensor([[ 1.9993],\n",
      "        [-3.3995]], dtype=torch.float64, requires_grad=True)\n"
     ]
    }
   ],
   "source": [
    "print(net.w)"
   ]
  }
 ],
 "metadata": {
  "kernelspec": {
   "display_name": "Python 3.9.13 ('xclds')",
   "language": "python",
   "name": "python3"
  },
  "language_info": {
   "codemirror_mode": {
    "name": "ipython",
    "version": 3
   },
   "file_extension": ".py",
   "mimetype": "text/x-python",
   "name": "python",
   "nbconvert_exporter": "python",
   "pygments_lexer": "ipython3",
   "version": "3.9.13"
  },
  "orig_nbformat": 4,
  "vscode": {
   "interpreter": {
    "hash": "9f1e55e74c766e763530812631a72120f1fc83c0fcf0b61c7a0638716cdefb0e"
   }
  }
 },
 "nbformat": 4,
 "nbformat_minor": 2
}
