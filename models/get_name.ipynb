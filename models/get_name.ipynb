{
 "cells": [
  {
   "cell_type": "code",
   "execution_count": 8,
   "metadata": {},
   "outputs": [],
   "source": [
    "import geopandas as gpd\n",
    "from matplotlib import pyplot as plt"
   ]
  },
  {
   "cell_type": "code",
   "execution_count": 9,
   "metadata": {},
   "outputs": [
    {
     "name": "stdout",
     "output_type": "stream",
     "text": [
      "EPSG:4548\n"
     ]
    }
   ],
   "source": [
    "data = gpd.read_file('../data/RiverDW/大汶河计算单元-prj.shp')\n",
    "data = gpd.read_file('../data/')\n",
    "print(data.crs)"
   ]
  },
  {
   "cell_type": "code",
   "execution_count": 3,
   "metadata": {},
   "outputs": [
    {
     "name": "stdout",
     "output_type": "stream",
     "text": [
      "      BLKCD          CLCD    CLNM BlockName        Area  \\\n",
      "0  40501007  4.050101e+09  乔店水库_2      乔店水库    0.000632   \n",
      "1  40501007  4.050101e+09  乔店水库_2      乔店水库   34.890036   \n",
      "2  40501020  4.050102e+09   角峪桥_2       角峪桥    0.000607   \n",
      "3  40501020  4.050102e+09   角峪桥_2       角峪桥  101.853538   \n",
      "4  40501028  4.050103e+09  瀛汶河引水闸    瀛汶河引水闸    0.000624   \n",
      "\n",
      "                                            geometry  \n",
      "0  POLYGON ((576713.307 4009728.341, 576713.479 4...  \n",
      "1  POLYGON ((576713.307 4009728.341, 576713.458 4...  \n",
      "2  POLYGON ((558864.818 4001887.328, 558874.780 4...  \n",
      "3  POLYGON ((558864.818 4001887.328, 558861.310 4...  \n",
      "4  POLYGON ((538464.828 4014002.707, 538465.089 4...  \n"
     ]
    }
   ],
   "source": [
    "print(data.head())"
   ]
  },
  {
   "cell_type": "code",
   "execution_count": 13,
   "metadata": {},
   "outputs": [
    {
     "data": {
      "text/plain": [
       "Index(['BLKCD', 'CLCD', 'CLNM', 'BlockName', 'Area', 'geometry'], dtype='object')"
      ]
     },
     "execution_count": 13,
     "metadata": {},
     "output_type": "execute_result"
    }
   ],
   "source": [
    "data.columns"
   ]
  },
  {
   "cell_type": "markdown",
   "metadata": {},
   "source": []
  },
  {
   "cell_type": "code",
   "execution_count": 16,
   "metadata": {},
   "outputs": [
    {
     "name": "stdout",
     "output_type": "stream",
     "text": [
      "72\n"
     ]
    }
   ],
   "source": [
    "# data按照name字段进行分组\n",
    "grouped = data.groupby('BlockName')\n",
    "print(len(grouped))"
   ]
  },
  {
   "cell_type": "code",
   "execution_count": 18,
   "metadata": {},
   "outputs": [
    {
     "name": "stdout",
     "output_type": "stream",
     "text": [
      "      BLKCD          CLCD        CLNM   BlockName          Area  \\\n",
      "0  40501006  4.050101e+09  闫王河潘家庄村水位站  闫王河潘家庄村水位站  2.055211e-09   \n",
      "1  40501010  4.050101e+09         曾家庄         曾家庄  1.907764e-09   \n",
      "2  40501018  4.050102e+09       吕家楼河道       吕家楼河道  2.033693e-09   \n",
      "3  40501019  4.050102e+09       鹁鸽楼水库       鹁鸽楼水库  3.505289e-10   \n",
      "4  40501001  4.050100e+09        南湖_1          南湖  4.308756e-09   \n",
      "\n",
      "                                            geometry  \n",
      "0  POLYGON ((117.88397 36.17670, 117.88397 36.176...  \n",
      "1  POLYGON ((117.72793 36.15741, 117.72797 36.157...  \n",
      "2  POLYGON ((117.56796 36.13812, 117.56796 36.138...  \n",
      "3  POLYGON ((117.56189 36.14602, 117.56189 36.146...  \n",
      "4  POLYGON ((117.93923 36.09464, 117.93937 36.094...  \n"
     ]
    }
   ],
   "source": [
    "# 根据\n",
    "import geopandas as gpd\n",
    "df = gpd.read_file('../data/RiverDW/大汶河计算单元Copy.dbf')\n",
    "print(df.head())"
   ]
  }
 ],
 "metadata": {
  "kernelspec": {
   "display_name": "xclds",
   "language": "python",
   "name": "python3"
  },
  "language_info": {
   "codemirror_mode": {
    "name": "ipython",
    "version": 3
   },
   "file_extension": ".py",
   "mimetype": "text/x-python",
   "name": "python",
   "nbconvert_exporter": "python",
   "pygments_lexer": "ipython3",
   "version": "3.9.13"
  }
 },
 "nbformat": 4,
 "nbformat_minor": 2
}
