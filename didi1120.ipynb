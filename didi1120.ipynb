{
 "cells": [
  {
   "cell_type": "markdown",
   "metadata": {},
   "source": [
    "给定一个非负整数数组，你最初位于数组的第一个位置。数组中的每个元素代表你在该位置可以跳跃的最大长度。判断你是否能够到达最后一个位置。\n",
    "\n",
    "输入: [2,3,1,1,4]\n",
    "输出: true\n",
    "解释: 我们可以先跳 1 步，从位置 0 到达位置 1, 然后再从位置 1 跳 3 步到达最后一个位置。\n",
    "\n",
    "输入: [3,2,1,0 ,4]\n",
    "输出: false\n",
    "解释: 无论怎样，你总会到达索引为 3 的位置。但该位置的最大跳跃长度是 0 ， 所以你永远不可能到达最后一个位置。\n",
    "\n",
    "输入: [0,2,1,0,4]\n",
    "输出: false\n",
    "解释: 无论怎样，你总是停留在位置0；\n",
    "\n",
    "输入：[2,0]\n",
    "输出：true\n",
    "解释：可以一步到位"
   ]
  },
  {
   "cell_type": "code",
   "execution_count": 13,
   "metadata": {},
   "outputs": [
    {
     "name": "stdout",
     "output_type": "stream",
     "text": [
      "False\n"
     ]
    }
   ],
   "source": [
    "def solution(arr):\n",
    "    '''\n",
    "    输入数组\n",
    "\n",
    "    返回是否可以到达最终点\n",
    "    '''\n",
    "    # 状态：dp[i] 表示当前是否是可到达的\n",
    "    # 阶段：每一步跳越\n",
    "    # 更新：\n",
    "    dp = [0 for _ in range(len(arr))]\n",
    "    dp[0] = 1\n",
    "    for i in range(len(arr)):\n",
    "        for j in range(arr[i]+1):\n",
    "            if i+j < len(arr):\n",
    "                dp[i+j] = dp[i]\n",
    "    return dp[-1]==1\n",
    "\n",
    "arr = [0,1,0]\n",
    "print(solution(arr))"
   ]
  }
 ],
 "metadata": {
  "kernelspec": {
   "display_name": "tf2",
   "language": "python",
   "name": "python3"
  },
  "language_info": {
   "codemirror_mode": {
    "name": "ipython",
    "version": 3
   },
   "file_extension": ".py",
   "mimetype": "text/x-python",
   "name": "python",
   "nbconvert_exporter": "python",
   "pygments_lexer": "ipython3",
   "version": "3.9.0"
  }
 },
 "nbformat": 4,
 "nbformat_minor": 2
}
